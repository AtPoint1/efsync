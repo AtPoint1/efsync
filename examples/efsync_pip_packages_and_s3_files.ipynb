{
 "cells": [
  {
   "cell_type": "markdown",
   "metadata": {
    "colab_type": "text",
    "id": "view-in-github"
   },
   "source": [
    "<a href=\"https://colab.research.google.com/github/philschmid/efsync/blob/main/examples/efsync_pip_packages_and_s3_files.ipynb\" target=\"_parent\"><img src=\"https://colab.research.google.com/assets/colab-badge.svg\" alt=\"Open In Colab\"/></a>"
   ]
  },
  {
   "cell_type": "markdown",
   "metadata": {
    "colab_type": "text",
    "id": "G2KJBvSLKmCy"
   },
   "source": [
    "# Example Notebook for efsync installing pip packages and downloading files from s3\n",
    "\n",
    "this notebooks includes examples for the `CLI` and the `SDK`. \n",
    "\n",
    "This Notebook can be runned in google colab. "
   ]
  },
  {
   "cell_type": "code",
   "execution_count": 2,
   "metadata": {
    "colab": {
     "base_uri": "https://localhost:8080/",
     "height": 601
    },
    "colab_type": "code",
    "id": "su7WWjnHKhVd",
    "outputId": "4d83a1ca-5009-41d1-f307-9d36a3cb9c9b"
   },
   "outputs": [
    {
     "name": "stdout",
     "output_type": "stream",
     "text": [
      "Collecting efsync\n",
      "  Downloading https://files.pythonhosted.org/packages/dc/6a/d2076c2778a56df0743e5361a9183423b1820d5230d19d43265456c8e972/efsync-0.4.0-py3-none-any.whl\n",
      "Collecting paramiko\n",
      "\u001b[?25l  Downloading https://files.pythonhosted.org/packages/95/19/124e9287b43e6ff3ebb9cdea3e5e8e88475a873c05ccdf8b7e20d2c4201e/paramiko-2.7.2-py2.py3-none-any.whl (206kB)\n",
      "\u001b[K     |████████████████████████████████| 215kB 5.4MB/s \n",
      "\u001b[?25hRequirement already satisfied: boto3 in /usr/local/lib/python3.6/dist-packages (from efsync) (1.14.59)\n",
      "Collecting scp\n",
      "  Downloading https://files.pythonhosted.org/packages/4d/7a/3d76dc5ad8deea79642f50a572e1c057cb27e8b427f83781a2c05ce4e5b6/scp-0.13.2-py2.py3-none-any.whl\n",
      "Collecting pyaml\n",
      "  Downloading https://files.pythonhosted.org/packages/15/c4/1310a054d33abc318426a956e7d6df0df76a6ddfa9c66f6310274fb75d42/pyaml-20.4.0-py2.py3-none-any.whl\n",
      "Collecting pynacl>=1.0.1\n",
      "\u001b[?25l  Downloading https://files.pythonhosted.org/packages/9d/57/2f5e6226a674b2bcb6db531e8b383079b678df5b10cdaa610d6cf20d77ba/PyNaCl-1.4.0-cp35-abi3-manylinux1_x86_64.whl (961kB)\n",
      "\u001b[K     |████████████████████████████████| 962kB 8.1MB/s \n",
      "\u001b[?25hCollecting cryptography>=2.5\n",
      "\u001b[?25l  Downloading https://files.pythonhosted.org/packages/c0/9c/647e559a6e8be493dc2a7a5d15d26cb501ca60ec299b356f23839a673a83/cryptography-3.1-cp35-abi3-manylinux2010_x86_64.whl (2.6MB)\n",
      "\u001b[K     |████████████████████████████████| 2.6MB 14.2MB/s \n",
      "\u001b[?25hCollecting bcrypt>=3.1.3\n",
      "\u001b[?25l  Downloading https://files.pythonhosted.org/packages/26/70/6d218afbe4c73538053c1016dd631e8f25fffc10cd01f5c272d7acf3c03d/bcrypt-3.2.0-cp36-abi3-manylinux2010_x86_64.whl (63kB)\n",
      "\u001b[K     |████████████████████████████████| 71kB 6.5MB/s \n",
      "\u001b[?25hRequirement already satisfied: s3transfer<0.4.0,>=0.3.0 in /usr/local/lib/python3.6/dist-packages (from boto3->efsync) (0.3.3)\n",
      "Requirement already satisfied: jmespath<1.0.0,>=0.7.1 in /usr/local/lib/python3.6/dist-packages (from boto3->efsync) (0.10.0)\n",
      "Requirement already satisfied: botocore<1.18.0,>=1.17.59 in /usr/local/lib/python3.6/dist-packages (from boto3->efsync) (1.17.59)\n",
      "Requirement already satisfied: PyYAML in /usr/local/lib/python3.6/dist-packages (from pyaml->efsync) (3.13)\n",
      "Requirement already satisfied: cffi>=1.4.1 in /usr/local/lib/python3.6/dist-packages (from pynacl>=1.0.1->paramiko->efsync) (1.14.2)\n",
      "Requirement already satisfied: six in /usr/local/lib/python3.6/dist-packages (from pynacl>=1.0.1->paramiko->efsync) (1.15.0)\n",
      "Requirement already satisfied: docutils<0.16,>=0.10 in /usr/local/lib/python3.6/dist-packages (from botocore<1.18.0,>=1.17.59->boto3->efsync) (0.15.2)\n",
      "Requirement already satisfied: urllib3<1.26,>=1.20; python_version != \"3.4\" in /usr/local/lib/python3.6/dist-packages (from botocore<1.18.0,>=1.17.59->boto3->efsync) (1.24.3)\n",
      "Requirement already satisfied: python-dateutil<3.0.0,>=2.1 in /usr/local/lib/python3.6/dist-packages (from botocore<1.18.0,>=1.17.59->boto3->efsync) (2.8.1)\n",
      "Requirement already satisfied: pycparser in /usr/local/lib/python3.6/dist-packages (from cffi>=1.4.1->pynacl>=1.0.1->paramiko->efsync) (2.20)\n",
      "Installing collected packages: pynacl, cryptography, bcrypt, paramiko, scp, pyaml, efsync\n",
      "Successfully installed bcrypt-3.2.0 cryptography-3.1 efsync-0.4.0 paramiko-2.7.2 pyaml-20.4.0 pynacl-1.4.0 scp-0.13.2\n"
     ]
    }
   ],
   "source": [
    "!pip3 install efsync"
   ]
  },
  {
   "cell_type": "code",
   "execution_count": 45,
   "metadata": {
    "colab": {},
    "colab_type": "code",
    "id": "qmaa_1XkK4e6"
   },
   "outputs": [
    {
     "name": "stdout",
     "output_type": "stream",
     "text": [
      "/Users/philippschmid/projects/personal/efsync\n",
      "['efsync', 'efsync.test', 'efsync.utils', 'efsync.utils.config', 'efsync.utils.security_group', 'efsync.utils.ssh', 'efsync.utils.iam_profile', 'efsync.utils.efs', 'efsync.utils.ec2']\n",
      "running sdist\n",
      "running egg_info\n",
      "writing efsync.egg-info/PKG-INFO\n",
      "writing dependency_links to efsync.egg-info/dependency_links.txt\n",
      "writing entry points to efsync.egg-info/entry_points.txt\n",
      "writing requirements to efsync.egg-info/requires.txt\n",
      "writing top-level names to efsync.egg-info/top_level.txt\n",
      "reading manifest file 'efsync.egg-info/SOURCES.txt'\n",
      "reading manifest template 'MANIFEST.in'\n",
      "writing manifest file 'efsync.egg-info/SOURCES.txt'\n",
      "running check\n",
      "creating efsync-0.9.20\n",
      "creating efsync-0.9.20/efsync\n",
      "creating efsync-0.9.20/efsync.egg-info\n",
      "creating efsync-0.9.20/efsync/test\n",
      "creating efsync-0.9.20/efsync/utils\n",
      "creating efsync-0.9.20/efsync/utils/config\n",
      "creating efsync-0.9.20/efsync/utils/ec2\n",
      "creating efsync-0.9.20/efsync/utils/efs\n",
      "creating efsync-0.9.20/efsync/utils/iam_profile\n",
      "creating efsync-0.9.20/efsync/utils/security_group\n",
      "creating efsync-0.9.20/efsync/utils/ssh\n",
      "copying files to efsync-0.9.20...\n",
      "copying LICENSE -> efsync-0.9.20\n",
      "copying MANIFEST.in -> efsync-0.9.20\n",
      "copying README.md -> efsync-0.9.20\n",
      "copying setup.py -> efsync-0.9.20\n",
      "copying efsync/__init__.py -> efsync-0.9.20/efsync\n",
      "copying efsync/efsync_cli.py -> efsync-0.9.20/efsync\n",
      "copying efsync/logger.py -> efsync-0.9.20/efsync\n",
      "copying efsync/main.py -> efsync-0.9.20/efsync\n",
      "copying efsync.egg-info/PKG-INFO -> efsync-0.9.20/efsync.egg-info\n",
      "copying efsync.egg-info/SOURCES.txt -> efsync-0.9.20/efsync.egg-info\n",
      "copying efsync.egg-info/dependency_links.txt -> efsync-0.9.20/efsync.egg-info\n",
      "copying efsync.egg-info/entry_points.txt -> efsync-0.9.20/efsync.egg-info\n",
      "copying efsync.egg-info/requires.txt -> efsync-0.9.20/efsync.egg-info\n",
      "copying efsync.egg-info/top_level.txt -> efsync-0.9.20/efsync.egg-info\n",
      "copying efsync/test/__init__.py -> efsync-0.9.20/efsync/test\n",
      "copying efsync/test/test_main.py -> efsync-0.9.20/efsync/test\n",
      "copying efsync/test/test_utils.py -> efsync-0.9.20/efsync/test\n",
      "copying efsync/utils/__init__.py -> efsync-0.9.20/efsync/utils\n",
      "copying efsync/utils/config/__init__.py -> efsync-0.9.20/efsync/utils/config\n",
      "copying efsync/utils/config/get_boto3_client.py -> efsync-0.9.20/efsync/utils/config\n",
      "copying efsync/utils/config/load_args_from_yaml.py -> efsync-0.9.20/efsync/utils/config\n",
      "copying efsync/utils/config/load_config.py -> efsync-0.9.20/efsync/utils/config\n",
      "copying efsync/utils/config/read_requirements_from_file.py -> efsync-0.9.20/efsync/utils/config\n",
      "copying efsync/utils/ec2/__init__.py -> efsync-0.9.20/efsync/utils/ec2\n",
      "copying efsync/utils/ec2/create_user_data.py -> efsync-0.9.20/efsync/utils/ec2\n",
      "copying efsync/utils/ec2/custom_waiter.py -> efsync-0.9.20/efsync/utils/ec2\n",
      "copying efsync/utils/ec2/ec2_main.py -> efsync-0.9.20/efsync/utils/ec2\n",
      "copying efsync/utils/ec2/ec2_waiter.py -> efsync-0.9.20/efsync/utils/ec2\n",
      "copying efsync/utils/efs/__init__.py -> efsync-0.9.20/efsync/utils/efs\n",
      "copying efsync/utils/efs/describe_efs.py -> efsync-0.9.20/efsync/utils/efs\n",
      "copying efsync/utils/iam_profile/__init__.py -> efsync-0.9.20/efsync/utils/iam_profile\n",
      "copying efsync/utils/iam_profile/iam_profile.py -> efsync-0.9.20/efsync/utils/iam_profile\n",
      "copying efsync/utils/security_group/__init__.py -> efsync-0.9.20/efsync/utils/security_group\n",
      "copying efsync/utils/security_group/ec2_security_group.py -> efsync-0.9.20/efsync/utils/security_group\n",
      "copying efsync/utils/ssh/__init__.py -> efsync-0.9.20/efsync/utils/ssh\n",
      "copying efsync/utils/ssh/createSSHClient.py -> efsync-0.9.20/efsync/utils/ssh\n",
      "copying efsync/utils/ssh/scp_to_ec2.py -> efsync-0.9.20/efsync/utils/ssh\n",
      "copying efsync/utils/ssh/ssh_key.py -> efsync-0.9.20/efsync/utils/ssh\n",
      "Writing efsync-0.9.20/setup.cfg\n",
      "Creating tar archive\n",
      "removing 'efsync-0.9.20' (and everything under it)\n",
      "running bdist_wheel\n",
      "running build\n",
      "running build_py\n",
      "copying efsync/utils/ssh/ssh_key.py -> build/lib/efsync/utils/ssh\n",
      "copying efsync/utils/iam_profile/iam_profile.py -> build/lib/efsync/utils/iam_profile\n",
      "copying efsync/utils/ec2/ec2_main.py -> build/lib/efsync/utils/ec2\n",
      "installing to build/bdist.macosx-10.9-x86_64/wheel\n",
      "running install\n",
      "running install_lib\n",
      "creating build/bdist.macosx-10.9-x86_64/wheel\n",
      "creating build/bdist.macosx-10.9-x86_64/wheel/efsync\n",
      "creating build/bdist.macosx-10.9-x86_64/wheel/efsync/test\n",
      "copying build/lib/efsync/test/test_utils.py -> build/bdist.macosx-10.9-x86_64/wheel/efsync/test\n",
      "copying build/lib/efsync/test/__init__.py -> build/bdist.macosx-10.9-x86_64/wheel/efsync/test\n",
      "copying build/lib/efsync/test/test_main.py -> build/bdist.macosx-10.9-x86_64/wheel/efsync/test\n",
      "copying build/lib/efsync/efsync_cli.py -> build/bdist.macosx-10.9-x86_64/wheel/efsync\n",
      "copying build/lib/efsync/__init__.py -> build/bdist.macosx-10.9-x86_64/wheel/efsync\n",
      "creating build/bdist.macosx-10.9-x86_64/wheel/efsync/utils\n",
      "creating build/bdist.macosx-10.9-x86_64/wheel/efsync/utils/config\n",
      "copying build/lib/efsync/utils/config/__init__.py -> build/bdist.macosx-10.9-x86_64/wheel/efsync/utils/config\n",
      "copying build/lib/efsync/utils/config/load_config.py -> build/bdist.macosx-10.9-x86_64/wheel/efsync/utils/config\n",
      "copying build/lib/efsync/utils/config/get_boto3_client.py -> build/bdist.macosx-10.9-x86_64/wheel/efsync/utils/config\n",
      "copying build/lib/efsync/utils/config/load_args_from_yaml.py -> build/bdist.macosx-10.9-x86_64/wheel/efsync/utils/config\n",
      "copying build/lib/efsync/utils/config/read_requirements_from_file.py -> build/bdist.macosx-10.9-x86_64/wheel/efsync/utils/config\n",
      "creating build/bdist.macosx-10.9-x86_64/wheel/efsync/utils/security_group\n",
      "copying build/lib/efsync/utils/security_group/__init__.py -> build/bdist.macosx-10.9-x86_64/wheel/efsync/utils/security_group\n",
      "copying build/lib/efsync/utils/security_group/ec2_security_group.py -> build/bdist.macosx-10.9-x86_64/wheel/efsync/utils/security_group\n",
      "copying build/lib/efsync/utils/__init__.py -> build/bdist.macosx-10.9-x86_64/wheel/efsync/utils\n",
      "creating build/bdist.macosx-10.9-x86_64/wheel/efsync/utils/ssh\n",
      "copying build/lib/efsync/utils/ssh/ssh_key.py -> build/bdist.macosx-10.9-x86_64/wheel/efsync/utils/ssh\n",
      "copying build/lib/efsync/utils/ssh/scp_to_ec2.py -> build/bdist.macosx-10.9-x86_64/wheel/efsync/utils/ssh\n",
      "copying build/lib/efsync/utils/ssh/createSSHClient.py -> build/bdist.macosx-10.9-x86_64/wheel/efsync/utils/ssh\n",
      "copying build/lib/efsync/utils/ssh/__init__.py -> build/bdist.macosx-10.9-x86_64/wheel/efsync/utils/ssh\n",
      "creating build/bdist.macosx-10.9-x86_64/wheel/efsync/utils/iam_profile\n",
      "copying build/lib/efsync/utils/iam_profile/__init__.py -> build/bdist.macosx-10.9-x86_64/wheel/efsync/utils/iam_profile\n",
      "copying build/lib/efsync/utils/iam_profile/iam_profile.py -> build/bdist.macosx-10.9-x86_64/wheel/efsync/utils/iam_profile\n",
      "creating build/bdist.macosx-10.9-x86_64/wheel/efsync/utils/efs\n",
      "copying build/lib/efsync/utils/efs/__init__.py -> build/bdist.macosx-10.9-x86_64/wheel/efsync/utils/efs\n",
      "copying build/lib/efsync/utils/efs/describe_efs.py -> build/bdist.macosx-10.9-x86_64/wheel/efsync/utils/efs\n",
      "creating build/bdist.macosx-10.9-x86_64/wheel/efsync/utils/ec2\n",
      "copying build/lib/efsync/utils/ec2/ec2_waiter.py -> build/bdist.macosx-10.9-x86_64/wheel/efsync/utils/ec2\n",
      "copying build/lib/efsync/utils/ec2/__init__.py -> build/bdist.macosx-10.9-x86_64/wheel/efsync/utils/ec2\n",
      "copying build/lib/efsync/utils/ec2/custom_waiter.py -> build/bdist.macosx-10.9-x86_64/wheel/efsync/utils/ec2\n",
      "copying build/lib/efsync/utils/ec2/create_user_data.py -> build/bdist.macosx-10.9-x86_64/wheel/efsync/utils/ec2\n",
      "copying build/lib/efsync/utils/ec2/ec2_main.py -> build/bdist.macosx-10.9-x86_64/wheel/efsync/utils/ec2\n",
      "copying build/lib/efsync/logger.py -> build/bdist.macosx-10.9-x86_64/wheel/efsync\n",
      "copying build/lib/efsync/main.py -> build/bdist.macosx-10.9-x86_64/wheel/efsync\n",
      "running install_egg_info\n",
      "Copying efsync.egg-info to build/bdist.macosx-10.9-x86_64/wheel/efsync-0.9.20-py3.8.egg-info\n",
      "running install_scripts\n",
      "adding license file \"LICENSE\" (matched pattern \"LICEN[CS]E*\")\n",
      "creating build/bdist.macosx-10.9-x86_64/wheel/efsync-0.9.20.dist-info/WHEEL\n",
      "creating 'dist/efsync-0.9.20-py3-none-any.whl' and adding 'build/bdist.macosx-10.9-x86_64/wheel' to it\n",
      "adding 'efsync/__init__.py'\n",
      "adding 'efsync/efsync_cli.py'\n",
      "adding 'efsync/logger.py'\n",
      "adding 'efsync/main.py'\n",
      "adding 'efsync/test/__init__.py'\n",
      "adding 'efsync/test/test_main.py'\n",
      "adding 'efsync/test/test_utils.py'\n",
      "adding 'efsync/utils/__init__.py'\n",
      "adding 'efsync/utils/config/__init__.py'\n",
      "adding 'efsync/utils/config/get_boto3_client.py'\n"
     ]
    },
    {
     "name": "stdout",
     "output_type": "stream",
     "text": [
      "adding 'efsync/utils/config/load_args_from_yaml.py'\n",
      "adding 'efsync/utils/config/load_config.py'\n",
      "adding 'efsync/utils/config/read_requirements_from_file.py'\n",
      "adding 'efsync/utils/ec2/__init__.py'\n",
      "adding 'efsync/utils/ec2/create_user_data.py'\n",
      "adding 'efsync/utils/ec2/custom_waiter.py'\n",
      "adding 'efsync/utils/ec2/ec2_main.py'\n",
      "adding 'efsync/utils/ec2/ec2_waiter.py'\n",
      "adding 'efsync/utils/efs/__init__.py'\n",
      "adding 'efsync/utils/efs/describe_efs.py'\n",
      "adding 'efsync/utils/iam_profile/__init__.py'\n",
      "adding 'efsync/utils/iam_profile/iam_profile.py'\n",
      "adding 'efsync/utils/security_group/__init__.py'\n",
      "adding 'efsync/utils/security_group/ec2_security_group.py'\n",
      "adding 'efsync/utils/ssh/__init__.py'\n",
      "adding 'efsync/utils/ssh/createSSHClient.py'\n",
      "adding 'efsync/utils/ssh/scp_to_ec2.py'\n",
      "adding 'efsync/utils/ssh/ssh_key.py'\n",
      "adding 'efsync-0.9.20.dist-info/LICENSE'\n",
      "adding 'efsync-0.9.20.dist-info/METADATA'\n",
      "adding 'efsync-0.9.20.dist-info/WHEEL'\n",
      "adding 'efsync-0.9.20.dist-info/entry_points.txt'\n",
      "adding 'efsync-0.9.20.dist-info/top_level.txt'\n",
      "adding 'efsync-0.9.20.dist-info/RECORD'\n",
      "removing build/bdist.macosx-10.9-x86_64/wheel\n",
      "Processing ./dist/efsync-0.9.20-py3-none-any.whl\n",
      "Requirement already satisfied: pyaml in /Users/philippschmid/.anaconda3/envs/coc/lib/python3.8/site-packages (from efsync==0.9.20) (20.4.0)\n",
      "Requirement already satisfied: boto3 in /Users/philippschmid/.anaconda3/envs/coc/lib/python3.8/site-packages (from efsync==0.9.20) (1.16.4)\n",
      "Requirement already satisfied: scp in /Users/philippschmid/.anaconda3/envs/coc/lib/python3.8/site-packages (from efsync==0.9.20) (0.13.2)\n",
      "Requirement already satisfied: paramiko in /Users/philippschmid/.anaconda3/envs/coc/lib/python3.8/site-packages (from efsync==0.9.20) (2.7.2)\n",
      "Requirement already satisfied: PyYAML in /Users/philippschmid/.anaconda3/envs/coc/lib/python3.8/site-packages (from pyaml->efsync==0.9.20) (5.3.1)\n",
      "Requirement already satisfied: botocore<1.20.0,>=1.19.4 in /Users/philippschmid/.anaconda3/envs/coc/lib/python3.8/site-packages (from boto3->efsync==0.9.20) (1.19.4)\n",
      "Requirement already satisfied: jmespath<1.0.0,>=0.7.1 in /Users/philippschmid/.anaconda3/envs/coc/lib/python3.8/site-packages (from boto3->efsync==0.9.20) (0.10.0)\n",
      "Requirement already satisfied: s3transfer<0.4.0,>=0.3.0 in /Users/philippschmid/.anaconda3/envs/coc/lib/python3.8/site-packages (from boto3->efsync==0.9.20) (0.3.3)\n",
      "Requirement already satisfied: cryptography>=2.5 in /Users/philippschmid/.anaconda3/envs/coc/lib/python3.8/site-packages (from paramiko->efsync==0.9.20) (3.1.1)\n",
      "Requirement already satisfied: pynacl>=1.0.1 in /Users/philippschmid/.anaconda3/envs/coc/lib/python3.8/site-packages (from paramiko->efsync==0.9.20) (1.4.0)\n",
      "Requirement already satisfied: bcrypt>=3.1.3 in /Users/philippschmid/.anaconda3/envs/coc/lib/python3.8/site-packages (from paramiko->efsync==0.9.20) (3.2.0)\n",
      "Requirement already satisfied: urllib3<1.26,>=1.25.4; python_version != \"3.4\" in /Users/philippschmid/.anaconda3/envs/coc/lib/python3.8/site-packages (from botocore<1.20.0,>=1.19.4->boto3->efsync==0.9.20) (1.25.11)\n",
      "Requirement already satisfied: python-dateutil<3.0.0,>=2.1 in /Users/philippschmid/.anaconda3/envs/coc/lib/python3.8/site-packages (from botocore<1.20.0,>=1.19.4->boto3->efsync==0.9.20) (2.8.1)\n",
      "Requirement already satisfied: six>=1.4.1 in /Users/philippschmid/.anaconda3/envs/coc/lib/python3.8/site-packages (from cryptography>=2.5->paramiko->efsync==0.9.20) (1.14.0)\n",
      "Requirement already satisfied: cffi!=1.11.3,>=1.8 in /Users/philippschmid/.anaconda3/envs/coc/lib/python3.8/site-packages (from cryptography>=2.5->paramiko->efsync==0.9.20) (1.14.3)\n",
      "Requirement already satisfied: pycparser in /Users/philippschmid/.anaconda3/envs/coc/lib/python3.8/site-packages (from cffi!=1.11.3,>=1.8->cryptography>=2.5->paramiko->efsync==0.9.20) (2.20)\n",
      "Installing collected packages: efsync\n",
      "Successfully installed efsync-0.9.20\n",
      "/Users/philippschmid/projects/personal/efsync/examples\n"
     ]
    }
   ],
   "source": [
    "%cd ..\n",
    "!python3 setup.py sdist bdist_wheel\n",
    "! pip install dist/efsync-0.9.20-py3-none-any.whl \n",
    "%cd examples "
   ]
  },
  {
   "cell_type": "code",
   "execution_count": 44,
   "metadata": {},
   "outputs": [
    {
     "name": "stdout",
     "output_type": "stream",
     "text": [
      "Found existing installation: efsync 0.9.19\r\n",
      "Uninstalling efsync-0.9.19:\r\n",
      "  Successfully uninstalled efsync-0.9.19\r\n"
     ]
    }
   ],
   "source": [
    "!pip uninstall efsync -y"
   ]
  },
  {
   "cell_type": "markdown",
   "metadata": {},
   "source": [
    "# Check installed version"
   ]
  },
  {
   "cell_type": "code",
   "execution_count": 46,
   "metadata": {},
   "outputs": [
    {
     "name": "stdout",
     "output_type": "stream",
     "text": [
      "efsync==0.9.20\r\n"
     ]
    }
   ],
   "source": [
    "!pip freeze | grep efsync"
   ]
  },
  {
   "cell_type": "code",
   "execution_count": 16,
   "metadata": {
    "scrolled": true
   },
   "outputs": [
    {
     "name": "stdout",
     "output_type": "stream",
     "text": [
      "usage: efsync <command> [<args>]\r\n",
      "\r\n",
      "optional arguments:\r\n",
      "  -h, --help            show this help message and exit\r\n",
      "  --version, -v         show program version\r\n",
      "  --requirements REQUIREMENTS, -r REQUIREMENTS\r\n",
      "                        path of your requirements.txt\r\n",
      "  --config_file CONFIG_FILE, -cf CONFIG_FILE\r\n",
      "                        path of your efsync.yaml\r\n",
      "  --python_version PYTHON_VERSION, -py PYTHON_VERSION\r\n",
      "                        Python version used to install dependencies\r\n",
      "  --efs_pip_dir EFS_PIP_DIR, -epd EFS_PIP_DIR\r\n",
      "                        directory where the pip packages will be installed on\r\n",
      "                        efs\r\n",
      "  --efs_filesystem_id EFS_FILESYSTEM_ID, -efi EFS_FILESYSTEM_ID\r\n",
      "                        File System ID from the EFS filesystem\r\n",
      "  --clean_efs CLEAN_EFS, -ce CLEAN_EFS\r\n",
      "                        Defines if the efs should be cleaned up before\r\n",
      "                        uploading\r\n",
      "  --file_dir FILE_DIR, -fd FILE_DIR\r\n",
      "                        directory where all other files will be placed\r\n",
      "  --aws_profile AWS_PROFILE, -ap AWS_PROFILE\r\n",
      "                        name of the used AWS profile\r\n",
      "  --aws_region AWS_REGION, -ar AWS_REGION\r\n",
      "                        aws region where the efs is running\r\n",
      "  --subnet_Id SUBNET_ID, -sbd SUBNET_ID\r\n",
      "                        subnet id of the efs\r\n",
      "  --ec2_key_name EC2_KEY_NAME, -ekn EC2_KEY_NAME\r\n",
      "                        temporary key name for the ec2 instance\r\n",
      "  --file_dir_on_ec2 FILE_DIR_ON_EC2, -fdoe FILE_DIR_ON_EC2\r\n",
      "                        name of the directory where your file from <file_dir>\r\n",
      "                        will be uploaded\r\n",
      "  --s3_bucket S3_BUCKET, -s3b S3_BUCKET\r\n",
      "                        s3 bucket name from where the files will be downloaded\r\n",
      "  --s3_keyprefix S3_KEYPREFIX, -s3k S3_KEYPREFIX\r\n",
      "                        s3 keyprefix of the directory in s3. Files will be\r\n",
      "                        downloaded\r\n"
     ]
    }
   ],
   "source": [
    "!efsync -h"
   ]
  },
  {
   "cell_type": "code",
   "execution_count": 17,
   "metadata": {},
   "outputs": [],
   "source": [
    "from efsync import efsync"
   ]
  },
  {
   "cell_type": "markdown",
   "metadata": {},
   "source": [
    "---"
   ]
  },
  {
   "cell_type": "markdown",
   "metadata": {},
   "source": [
    "## Create `requirements.txt` "
   ]
  },
  {
   "cell_type": "code",
   "execution_count": 7,
   "metadata": {},
   "outputs": [
    {
     "name": "stdout",
     "output_type": "stream",
     "text": [
      "Overwriting ./requirements.txt\n"
     ]
    }
   ],
   "source": [
    "%%writefile ./requirements.txt\n",
    "\n",
    "pyjokes\n",
    "pandas\n",
    "numpy\n",
    "requests"
   ]
  },
  {
   "cell_type": "markdown",
   "metadata": {},
   "source": [
    "# Example with `efsync.yaml`"
   ]
  },
  {
   "cell_type": "code",
   "execution_count": 8,
   "metadata": {},
   "outputs": [
    {
     "name": "stdout",
     "output_type": "stream",
     "text": [
      "Overwriting ./efsync.yaml\n"
     ]
    }
   ],
   "source": [
    "%%writefile ./efsync.yaml\n",
    "\n",
    "#standard configuration\n",
    "efs_filesystem_id: fs-2226b27a # aws efs filesystem id (moint point)\n",
    "subnet_Id: subnet-17f97a7d # subnet of which the efs is running in\n",
    "ec2_key_name: efsync-asd913fjgq3 # required key name for starting the ec2 instance\n",
    "clean_efs: all # Defines if the EFS should be cleaned up before. values: `'all'`,`'pip'`,`'file'` uploading\n",
    "# aws profile configuration\n",
    "aws_profile: schueler-vz # aws iam profile with required permission configured in .aws/credentials\n",
    "aws_region: eu-central-1 # the aws region where the efs is running\n",
    "\n",
    "# pip packages configurations\n",
    "efs_pip_dir: lib # pip directory on ec2\n",
    "python_version: 3.8 # python version used for installing pip packages -> should be used as lambda runtime afterwads\n",
    "requirements: requirements.txt # path + file to requirements.txt which holds the installable pip packages"
   ]
  },
  {
   "cell_type": "code",
   "execution_count": 9,
   "metadata": {},
   "outputs": [
    {
     "name": "stdout",
     "output_type": "stream",
     "text": [
      "2020-10-25 17:55:55,061 - efsync - starting....\n",
      "2020-10-25 17:55:55,062 - efsync - loading config\n",
      "2020-10-25 17:55:55,077 - efsync - creating security group\n",
      "2020-10-25 17:55:55,567 - efsync - loading default security group\n",
      "2020-10-25 17:55:55,716 - efsync - creating ssh key for scp in memory\n",
      "2020-10-25 17:55:56,335 - efsync - starting ec2 instance with security group sg-0f25eeb79a9ce2478 and subnet_Id subnet-17f97a7d\n",
      "2020-10-25 18:00:59,841 - efsync - stopping ec2 instance with instance id i-034ae8dbb7b99f9e5\n",
      "2020-10-25 18:01:45,491 - efsync - deleting iam profile\n",
      "2020-10-25 18:01:46,528 - efsync - deleting ssh key\n",
      "2020-10-25 18:01:46,712 - efsync - deleting security group\n",
      "2020-10-25 18:01:47,022 - efsync - #################### finished after 5.866 minutes ####################\n"
     ]
    },
    {
     "data": {
      "text/plain": [
       "True"
      ]
     },
     "execution_count": 9,
     "metadata": {},
     "output_type": "execute_result"
    }
   ],
   "source": [
    "from efsync import efsync\n",
    "\n",
    "efsync('./efsync.yaml')"
   ]
  },
  {
   "cell_type": "markdown",
   "metadata": {},
   "source": [
    "# Example with pyton `dict`"
   ]
  },
  {
   "cell_type": "code",
   "execution_count": 10,
   "metadata": {},
   "outputs": [],
   "source": [
    "config = {\n",
    "  'efs_filesystem_id': 'fs-2226b27a', # aws efs filesystem id (moint point)\n",
    "  'subnet_Id': 'subnet-17f97a7d', # subnet of which the efs is running in\n",
    "  'ec2_key_name':'efsync-asd913fjgq3',  # required key name for starting the ec2 instance\n",
    "  'clean_efs': 'all', # Defines if the EFS should be cleaned up before. values: `'all'`,`'pip'`,`'file'` uploading\n",
    "  'aws_profile': 'schueler-vz', # aws iam profile with required permission configured in .aws/credentials\n",
    "  'aws_region': 'eu-central-1', # the aws region where the efs is running\n",
    "  'efs_pip_dir': 'lib',  # pip directory on ec2\n",
    "  'python_version': 3.8,  # python version used for installing pip packages -> should be used as lambda runtime afterwads\n",
    "  'requirements': 'requirements.txt', # path + file to requirements.txt which holds the installable pip packages\n",
    "}"
   ]
  },
  {
   "cell_type": "code",
   "execution_count": 18,
   "metadata": {},
   "outputs": [
    {
     "name": "stdout",
     "output_type": "stream",
     "text": [
      "2020-10-25 18:09:42,130 - efsync - starting....\n",
      "2020-10-25 18:09:42,131 - efsync - loading config\n",
      "2020-10-25 18:09:42,143 - efsync - creating security group\n",
      "2020-10-25 18:09:42,523 - efsync - loading default security group\n",
      "2020-10-25 18:09:42,687 - efsync - creating ssh key for scp in memory\n",
      "2020-10-25 18:09:43,214 - efsync - starting ec2 instance with security group sg-0baacfbb38b8c541d and subnet_Id subnet-17f97a7d\n",
      "2020-10-25 18:15:01,903 - efsync - stopping ec2 instance with instance id i-023f3dfead9e2fd2f\n",
      "2020-10-25 18:15:47,713 - efsync - deleting iam profile\n",
      "2020-10-25 18:15:49,364 - efsync - deleting ssh key\n",
      "2020-10-25 18:15:49,559 - efsync - deleting security group\n",
      "2020-10-25 18:15:49,859 - efsync - #################### finished after 6.128833333333334 minutes ####################\n"
     ]
    },
    {
     "data": {
      "text/plain": [
       "True"
      ]
     },
     "execution_count": 18,
     "metadata": {},
     "output_type": "execute_result"
    }
   ],
   "source": [
    "from efsync import efsync\n",
    "\n",
    "\n",
    "efsync(config)"
   ]
  },
  {
   "cell_type": "markdown",
   "metadata": {},
   "source": [
    "# Example with cli and `efsync.yaml`"
   ]
  },
  {
   "cell_type": "code",
   "execution_count": 23,
   "metadata": {},
   "outputs": [
    {
     "name": "stdout",
     "output_type": "stream",
     "text": [
      "2020-10-25 18:19:47,236 - efsync - starting....\n",
      "2020-10-25 18:19:47,236 - efsync - loading config\n",
      "2020-10-25 18:19:47,251 - efsync - creating security group\n",
      "2020-10-25 18:19:47,728 - efsync - loading default security group\n",
      "2020-10-25 18:19:47,878 - efsync - creating ssh key for scp in memory\n",
      "2020-10-25 18:19:48,432 - efsync - starting ec2 instance with security group sg-091caa95c9ae7130c and subnet_Id subnet-17f97a7d\n",
      "{'Arn': 'arn:aws:iam::770710496542:instance-profile/efsync_instance_profile_role', 'Name': 'efsync_instance_profile_role'}\n",
      "2020-10-25 18:24:52,266 - efsync - stopping ec2 instance with instance id i-0efa9c6b09f735de8\n",
      "2020-10-25 18:25:37,931 - efsync - deleting iam profile\n",
      "2020-10-25 18:25:39,057 - efsync - deleting ssh key\n",
      "2020-10-25 18:25:39,251 - efsync - deleting security group\n",
      "2020-10-25 18:25:39,551 - efsync - #################### finished after 5.871833333333333 minutes ####################\n"
     ]
    }
   ],
   "source": [
    "!efsync -cf efsync.yaml"
   ]
  },
  {
   "cell_type": "markdown",
   "metadata": {},
   "source": [
    "# Example with cli and parameters"
   ]
  },
  {
   "cell_type": "code",
   "execution_count": 47,
   "metadata": {
    "scrolled": false
   },
   "outputs": [
    {
     "name": "stdout",
     "output_type": "stream",
     "text": [
      "2020-10-25 18:40:00,587 - efsync - starting....\n",
      "2020-10-25 18:40:00,587 - efsync - loading config\n",
      "2020-10-25 18:40:00,597 - efsync - creating security group\n",
      "2020-10-25 18:40:01,073 - efsync - loading default security group\n",
      "2020-10-25 18:40:01,246 - efsync - creating ssh key for scp in memory\n",
      "2020-10-25 18:40:01,818 - efsync - starting ec2 instance with security group sg-007f66499e888edab and subnet_Id subnet-17f97a7d\n",
      "2020-10-25 18:45:15,757 - efsync - stopping ec2 instance with instance id i-0090f12b389b9c076\n",
      "2020-10-25 18:46:01,407 - efsync - deleting iam profile\n",
      "2020-10-25 18:46:02,651 - efsync - deleting ssh key\n",
      "2020-10-25 18:46:02,862 - efsync - deleting security group\n",
      "2020-10-25 18:46:03,158 - efsync - #################### finished after 6.042833333333333 minutes ####################\n"
     ]
    }
   ],
   "source": [
    "!efsync --efs_filesystem_id  fs-2226b27a \\\n",
    "        --subnet_Id subnet-17f97a7d \\\n",
    "        --ec2_key_name efsync-asd913fjgq3 \\\n",
    "        --clean_efs all \\\n",
    "        --aws_profile schueler-vz \\\n",
    "        --aws_region eu-central-1 \\\n",
    "        --efs_pip_dir lib \\\n",
    "        --python_version 3.8 \\\n",
    "        --requirements requirements.txt"
   ]
  }
 ],
 "metadata": {
  "colab": {
   "authorship_tag": "ABX9TyPDRbc5orFAO1WZPC4Bxn2Y",
   "include_colab_link": true,
   "name": "efsync example sdk & cli.ipynb",
   "provenance": []
  },
  "kernelspec": {
   "display_name": "Python 3",
   "language": "python",
   "name": "python3"
  },
  "language_info": {
   "codemirror_mode": {
    "name": "ipython",
    "version": 3
   },
   "file_extension": ".py",
   "mimetype": "text/x-python",
   "name": "python",
   "nbconvert_exporter": "python",
   "pygments_lexer": "ipython3",
   "version": "3.8.3"
  }
 },
 "nbformat": 4,
 "nbformat_minor": 1
}
